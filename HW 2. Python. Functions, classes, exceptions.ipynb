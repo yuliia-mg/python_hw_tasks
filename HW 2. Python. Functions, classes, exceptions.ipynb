{
 "cells": [
  {
   "cell_type": "markdown",
   "id": "25684896",
   "metadata": {},
   "source": [
    "В цьому домашньому завданні вже є якісь частини коду та в кожному завданні описано, що з ними треба зробити, часто - просто виконати після того, як ви напишете частину, якої поки не вистачає. Пишіть, будь ласка, код, який реалізує рішення кожного завдання, безпосереньо під формулюванням завдання, створюючи нові клітинки. Можете створювати скільки завгодно клітинок для виконання одного завдання. "
   ]
  },
  {
   "cell_type": "markdown",
   "id": "4e8f4fce",
   "metadata": {},
   "source": [
    "1.Напишіть функцію `is_even`, яка для заданого числа визначає, чи воно є парним (тобто ділиться на 2 без остачі, наприклад 4, 10, 102). Функція має вертати результат типу bool.\n",
    "Продемонструйте результати робити функції запустивши код нижче."
   ]
  },
  {
   "cell_type": "code",
   "execution_count": 1,
   "id": "109f2b73",
   "metadata": {
    "ExecuteTime": {
     "end_time": "2023-06-11T16:02:05.943542Z",
     "start_time": "2023-06-11T16:02:05.929250Z"
    }
   },
   "outputs": [],
   "source": [
    "def is_even(digit):\n",
    "    return digit % 2 == 0"
   ]
  },
  {
   "cell_type": "code",
   "execution_count": 2,
   "id": "7d175be7",
   "metadata": {
    "ExecuteTime": {
     "end_time": "2023-06-11T16:02:05.974068Z",
     "start_time": "2023-06-11T16:02:05.946534Z"
    }
   },
   "outputs": [
    {
     "data": {
      "text/plain": [
       "[False, True, False, False, True]"
      ]
     },
     "execution_count": 2,
     "metadata": {},
     "output_type": "execute_result"
    }
   ],
   "source": [
    "[is_even(digit) for digit in [101, 2002, 3043, 5015, 8222]]"
   ]
  },
  {
   "cell_type": "markdown",
   "id": "78fd1fdd",
   "metadata": {
    "ExecuteTime": {
     "end_time": "2022-10-22T04:15:21.939494Z",
     "start_time": "2022-10-22T04:15:21.933981Z"
    }
   },
   "source": [
    "2.Напишіть функцію `get_random_int_list`, яка вертає задану кількість випадкових цілих чисел з діапазону від 0 до 100. Для генерації випадкових чисел, скористуйтесь модулем random. Продемонструйте результат роботи функції, запустивши код нижче."
   ]
  },
  {
   "cell_type": "code",
   "execution_count": 3,
   "id": "c55b168c",
   "metadata": {
    "ExecuteTime": {
     "end_time": "2023-06-11T16:02:05.989664Z",
     "start_time": "2023-06-11T16:02:05.974650Z"
    }
   },
   "outputs": [],
   "source": [
    "import random\n",
    "def get_random_int_list(number: int):\n",
    "    random_int_list = []\n",
    "    for i in range(number):\n",
    "        random_int_list.append(random.randint(0, 100))\n",
    "    return random_int_list"
   ]
  },
  {
   "cell_type": "code",
   "execution_count": 4,
   "id": "77fc638c",
   "metadata": {
    "ExecuteTime": {
     "end_time": "2023-06-11T16:02:06.005380Z",
     "start_time": "2023-06-11T16:02:05.990766Z"
    }
   },
   "outputs": [
    {
     "data": {
      "text/plain": [
       "[61, 51, 32, 5, 97, 14, 69, 54]"
      ]
     },
     "execution_count": 4,
     "metadata": {},
     "output_type": "execute_result"
    }
   ],
   "source": [
    "get_random_int_list(8)"
   ]
  },
  {
   "cell_type": "markdown",
   "id": "792e36f4",
   "metadata": {},
   "source": [
    "3.У наступному фрагменті коду для 5-ти людей розраховується  [індекс маси тіла (BMI)](https://uk.wikipedia.org/wiki/%D0%86%D0%BD%D0%B4%D0%B5%D0%BA%D1%81_%D0%BC%D0%B0%D1%81%D0%B8_%D1%82%D1%96%D0%BB%D0%B0#:~:text=%D0%86%CC%81%D0%BD%D0%B4%D0%B5%D0%BA%D1%81%20%D0%BC%D0%B0%CC%81%D1%81%D0%B8%20%D1%82%D1%96%CC%81%D0%BB%D0%B0%20(%D0%86%D0%9C%D0%A2%2C%20%D0%B0%D0%BD%D0%B3%D0%BB,%D0%BD%D0%BE%D1%80%D0%BC%D0%B0%D0%BB%D1%8C%D0%BD%D0%BE%D1%8E%2C%20%D0%BD%D0%B0%D0%B4%D0%BC%D1%96%D1%80%D0%BD%D0%BE%D1%8E%20(%D0%BE%D0%B6%D0%B8%D1%80%D1%96%D0%BD%D0%BD%D1%8F%D0%BC) пʼяти осіб. Для обчислення індексу маси тіла треба розділити вагу на зріст, піднесений до квадрату. \n",
    "\n",
    "Виділіть у функцію код, що дублюється (робить логічно одне і те ж саме) у цьому фрагменті коду так, аби результат виводився **той самий**. Такого плану зміни коду в розробці називаються \"рефакторинг\" :)  \n",
    "В кінці - запустіть свій відрефакторений фрагмент коду.\n",
    "\n",
    "Увага: очевидно, можна обгорнути даний код у функцію по-різному. Єдиної правильної відповіді нема. Буде перевірятись розуміння підходу \"винесення частин, що повторюються, у функцію\"."
   ]
  },
  {
   "cell_type": "code",
   "execution_count": 5,
   "id": "db943df8",
   "metadata": {
    "ExecuteTime": {
     "end_time": "2023-06-11T16:02:06.021342Z",
     "start_time": "2023-06-11T16:02:06.006382Z"
    }
   },
   "outputs": [
    {
     "name": "stdout",
     "output_type": "stream",
     "text": [
      "bmi person1 = 30\n",
      "bmi person2 = 29\n",
      "bmi person3 = 29\n",
      "bmi person4 = 24\n",
      "bmi person5 = 28\n"
     ]
    }
   ],
   "source": [
    "person1 = [80, 1.62]\n",
    "person2 = [69, 1.53]\n",
    "person3 = [80, 1.66]\n",
    "person4 = [80, 1.79]\n",
    "person5 = [72, 1.60]\n",
    "\n",
    "bmi_person1 = int(person1[0] / person1[1]**2)\n",
    "print(\"bmi {} = {}\".format('person1', bmi_person1))\n",
    "\n",
    "bmi_person2 = int(person2[0] / person2[1]**2)\n",
    "print(\"bmi {} = {}\".format('person2', bmi_person2))\n",
    "\n",
    "bmi_person3 = int(person3[0] / person3[1]**2)\n",
    "print(\"bmi {} = {}\".format('person3', bmi_person3))\n",
    "\n",
    "bmi_person4 = int(person4[0] / person4[1]**2)\n",
    "print(\"bmi {} = {}\".format('person4', bmi_person4))\n",
    "\n",
    "bmi_person5 = int(person5[0] / person5[1]**2)\n",
    "print(\"bmi {} = {}\".format('person5', bmi_person5))"
   ]
  },
  {
   "cell_type": "code",
   "execution_count": 6,
   "id": "68ef623a",
   "metadata": {
    "ExecuteTime": {
     "end_time": "2023-06-11T16:02:06.036304Z",
     "start_time": "2023-06-11T16:02:06.023337Z"
    }
   },
   "outputs": [
    {
     "name": "stdout",
     "output_type": "stream",
     "text": [
      "bmi person1 = 30\n",
      "bmi person2 = 29\n",
      "bmi person3 = 29\n",
      "bmi person4 = 24\n",
      "bmi person5 = 28\n"
     ]
    }
   ],
   "source": [
    "def get_bmi_person(weight, height):\n",
    "    bmi = int(weight / height ** 2)\n",
    "    return bmi\n",
    "person = {\n",
    "    'person1': [80, 1.62],\n",
    "    'person2': [69, 1.53],\n",
    "    'person3': [80, 1.66],\n",
    "    'person4': [80, 1.79],\n",
    "    'person5': [72, 1.60]\n",
    "}\n",
    "for person, value in person.items():\n",
    "    bmi = get_bmi_person(value[0], value[1])\n",
    "    print(\"bmi {} = {}\".format(person, bmi))\n",
    "    "
   ]
  },
  {
   "cell_type": "markdown",
   "id": "fd7aed2c",
   "metadata": {
    "ExecuteTime": {
     "end_time": "2022-10-22T09:44:07.936985Z",
     "start_time": "2022-10-22T09:44:07.861792Z"
    }
   },
   "source": [
    "4.Напишіть функцію `distance`, яка вимірює відстань між двома точками на лінії. Тобто нам треба знайти модуль різниці двох чисел (дивись картинку і формулу нижче). Функція має приймати на вхід два параметри, перевіряти, що обидва з них є чисельного типу (тобто або цілим числом, або числом з плаваючою комою):\n",
    "- якщо так, то функція вертає результат обчислення, \n",
    "- якщо типи неправильні, то у функції підіймається виняток з повідомленням \"Неправильний тип даних одного або обох введених чисел\". Виняток може бути як користувацького типу (тобто ви визначили свій тип винятку), або стандартний Exception з вашим повідомленням, що розповідає про помилку, яка сталася.\n",
    "\n",
    "Аби обчислити модуль скористайтесь функцією `abs`."
   ]
  },
  {
   "attachments": {
    "Screenshot%20%282%29.png": {
     "image/png": "[encoded data removed]"
    }
   },
   "cell_type": "markdown",
   "id": "9bfc4a9a",
   "metadata": {},
   "source": [
    "![Screenshot%20%282%29.png](attachment:Screenshot%20%282%29.png)"
   ]
  },
  {
   "cell_type": "markdown",
   "id": "db5fdf2f",
   "metadata": {},
   "source": [
    "Після написання функції `distance`, запустіть наступний код:"
   ]
  },
  {
   "cell_type": "code",
   "execution_count": 7,
   "id": "54c1a6e2",
   "metadata": {
    "ExecuteTime": {
     "end_time": "2023-06-11T16:02:06.051469Z",
     "start_time": "2023-06-11T16:02:06.038299Z"
    }
   },
   "outputs": [],
   "source": [
    "def distance(number1, number2):\n",
    "    \"\"\"\n",
    "    Measures the distance between two points on a line\n",
    "    \n",
    "    :param number1: first number\n",
    "    :param number2: second number\n",
    "    :returns: distance between number1 and number2\n",
    "    :raises Exception: if number1 and/or number2 are not a number\n",
    "\n",
    "    \"\"\"\n",
    "    if isinstance(number1, (int, float)) and isinstance(number1, (int, float)):\n",
    "        return abs(number1 - number2)\n",
    "    raise Exception(\"Неправильний тип даних одного або обох введених чисел\")"
   ]
  },
  {
   "cell_type": "code",
   "execution_count": 8,
   "id": "cf6c035d",
   "metadata": {
    "ExecuteTime": {
     "end_time": "2023-06-11T16:02:06.487798Z",
     "start_time": "2023-06-11T16:02:06.052438Z"
    }
   },
   "outputs": [
    {
     "name": "stdout",
     "output_type": "stream",
     "text": [
      "1\n",
      "1009\n",
      "1754\n"
     ]
    },
    {
     "ename": "Exception",
     "evalue": "Неправильний тип даних одного або обох введених чисел",
     "output_type": "error",
     "traceback": [
      "\u001b[1;31m---------------------------------------------------------------------------\u001b[0m",
      "\u001b[1;31mException\u001b[0m                                 Traceback (most recent call last)",
      "Cell \u001b[1;32mIn[8], line 4\u001b[0m\n\u001b[0;32m      2\u001b[0m \u001b[38;5;28mprint\u001b[39m(distance(\u001b[38;5;241m1011\u001b[39m,\u001b[38;5;241m2\u001b[39m))\n\u001b[0;32m      3\u001b[0m \u001b[38;5;28mprint\u001b[39m(distance(\u001b[38;5;241m-\u001b[39m\u001b[38;5;241m199\u001b[39m, \u001b[38;5;241m1555\u001b[39m))\n\u001b[1;32m----> 4\u001b[0m \u001b[38;5;28mprint\u001b[39m(\u001b[43mdistance\u001b[49m\u001b[43m(\u001b[49m\u001b[38;5;124;43m'\u001b[39;49m\u001b[38;5;124;43m2121\u001b[39;49m\u001b[38;5;124;43m'\u001b[39;49m\u001b[43m,\u001b[49m\u001b[43m \u001b[49m\u001b[38;5;241;43m123\u001b[39;49m\u001b[43m)\u001b[49m)\n",
      "Cell \u001b[1;32mIn[7], line 13\u001b[0m, in \u001b[0;36mdistance\u001b[1;34m(number1, number2)\u001b[0m\n\u001b[0;32m     11\u001b[0m \u001b[38;5;28;01mif\u001b[39;00m \u001b[38;5;28misinstance\u001b[39m(number1, (\u001b[38;5;28mint\u001b[39m, \u001b[38;5;28mfloat\u001b[39m)) \u001b[38;5;129;01mand\u001b[39;00m \u001b[38;5;28misinstance\u001b[39m(number1, (\u001b[38;5;28mint\u001b[39m, \u001b[38;5;28mfloat\u001b[39m)):\n\u001b[0;32m     12\u001b[0m     \u001b[38;5;28;01mreturn\u001b[39;00m \u001b[38;5;28mabs\u001b[39m(number1 \u001b[38;5;241m-\u001b[39m number2)\n\u001b[1;32m---> 13\u001b[0m \u001b[38;5;28;01mraise\u001b[39;00m \u001b[38;5;167;01mException\u001b[39;00m(\u001b[38;5;124m\"\u001b[39m\u001b[38;5;124mНеправильний тип даних одного або обох введених чисел\u001b[39m\u001b[38;5;124m\"\u001b[39m)\n",
      "\u001b[1;31mException\u001b[0m: Неправильний тип даних одного або обох введених чисел"
     ]
    }
   ],
   "source": [
    "print(distance(1,2))\n",
    "print(distance(1011,2))\n",
    "print(distance(-199, 1555))\n",
    "print(distance('2121', 123))"
   ]
  },
  {
   "cell_type": "markdown",
   "id": "5f5f5243",
   "metadata": {},
   "source": [
    "5.Нижче є створений клас \"Shop\". Це клас для визначення магазинів компанії \"АВС\". У кожного магазина є локація і прибуток. Створіть три магазини в трьох окремих змінних:  \n",
    "- один з локацією \"Київ\" та прибутком 5500,   \n",
    "- другий - з локацією \"Львів\" та прибутком 3000,  \n",
    "- третій - з локацією \"Полтава\" та прибутком 2500  \n",
    "\n",
    "Порахуйте після цього суму прибутків трьох магазинів використовуючи інформацію про створені магазини.\n",
    "Виведіть сумарний прибуток на екран."
   ]
  },
  {
   "cell_type": "code",
   "execution_count": 9,
   "id": "705d0d0b",
   "metadata": {
    "ExecuteTime": {
     "end_time": "2023-06-11T16:04:59.926913Z",
     "start_time": "2023-06-11T16:04:59.919610Z"
    }
   },
   "outputs": [],
   "source": [
    "class Shop:\n",
    "    company = 'ABC'\n",
    "\n",
    "    def __init__(self, location, profit):\n",
    "        self.location = location\n",
    "        self.profit = profit"
   ]
  },
  {
   "cell_type": "code",
   "execution_count": 10,
   "id": "96d3f5e3",
   "metadata": {
    "ExecuteTime": {
     "end_time": "2023-06-11T16:04:59.958276Z",
     "start_time": "2023-06-11T16:04:59.928882Z"
    }
   },
   "outputs": [
    {
     "data": {
      "text/plain": [
       "11000"
      ]
     },
     "execution_count": 10,
     "metadata": {},
     "output_type": "execute_result"
    }
   ],
   "source": [
    "shop1 = Shop(\"Київ\", 5500)\n",
    "shop2 = Shop(\"Львів\", 3000)\n",
    "shop3 = Shop(\"Полтава\", 2500)\n",
    "total_profit = shop1.profit + shop2.profit + shop3.profit\n",
    "total_profit"
   ]
  },
  {
   "cell_type": "markdown",
   "id": "2266e5ea",
   "metadata": {
    "ExecuteTime": {
     "end_time": "2022-10-22T10:12:49.668479Z",
     "start_time": "2022-10-22T10:12:49.636219Z"
    }
   },
   "source": [
    "6.Створіть клас `Employee`, який при ініціалізації представника класу визначає поля \"Прізвище\", \"Місяць народження\" та \"Зарплата\" та запустіть код нижче."
   ]
  },
  {
   "cell_type": "code",
   "execution_count": 11,
   "id": "598514df",
   "metadata": {
    "ExecuteTime": {
     "end_time": "2023-06-11T16:04:59.973404Z",
     "start_time": "2023-06-11T16:04:59.959272Z"
    }
   },
   "outputs": [],
   "source": [
    "class Employee:\n",
    "    def __init__(self, surname, month_bd, salary):\n",
    "        self.surname = surname\n",
    "        self.month_bd = month_bd\n",
    "        self.salary = salary"
   ]
  },
  {
   "cell_type": "code",
   "execution_count": 12,
   "id": "f8a1479c",
   "metadata": {
    "ExecuteTime": {
     "end_time": "2023-06-11T16:04:59.989386Z",
     "start_time": "2023-06-11T16:04:59.976369Z"
    }
   },
   "outputs": [],
   "source": [
    "emp_1 = Employee('Чорненко', 'жовтень', 2000)\n",
    "emp_2 = Employee('Біленко', 'січень', 3000)\n",
    "emp_3 = Employee('Жовтенко', 'березень', 3400)"
   ]
  },
  {
   "cell_type": "markdown",
   "id": "8d97e36a",
   "metadata": {
    "ExecuteTime": {
     "end_time": "2022-10-22T10:17:28.531508Z",
     "start_time": "2022-10-22T10:17:28.526117Z"
    }
   },
   "source": [
    "7.До класу `Employee` додайте метод `salutate`, який вітатиме з **місяцем** народження. Аби додати метод - скопіюйте просто код з визначенням класа з попереднього завдання і додайте туди новий метод.  \n",
    "Метод має приймати на вхід заданий місяць і \n",
    "- якщо цей місяць співпадає з місяцем народження співробітника, виводить `Вітаємо, пане <прізвище співробітника>! Зараз місяць <назва місяця> у Вас День народження! Будьте здорові!`. Для формування привітання використайте інтерполяцію рядків. \n",
    "- якщо місяць не співпадає з місяцем народження співробітника, метод нічого не вертає.  \n",
    "\n",
    "Коли зробите завдання - запустіть код нижче."
   ]
  },
  {
   "cell_type": "code",
   "execution_count": 13,
   "id": "711f8773",
   "metadata": {
    "ExecuteTime": {
     "end_time": "2023-06-11T16:05:00.004403Z",
     "start_time": "2023-06-11T16:04:59.990385Z"
    }
   },
   "outputs": [],
   "source": [
    "class Employee:\n",
    "    def __init__(self, surname, month_bd, salary):\n",
    "        self.surname = surname\n",
    "        self.month_bd = month_bd\n",
    "        self.salary = salary  \n",
    "        \n",
    "    def salutate(self, current_month):\n",
    "        if current_month == self.month_bd:\n",
    "            print(f'Вітаємо, пане {self.surname}! Зараз місяць {self.month_bd} у Вас День народження! Будьте здорові!')"
   ]
  },
  {
   "cell_type": "code",
   "execution_count": 14,
   "id": "53420ef4",
   "metadata": {
    "ExecuteTime": {
     "end_time": "2023-06-11T16:05:00.019575Z",
     "start_time": "2023-06-11T16:05:00.006390Z"
    }
   },
   "outputs": [
    {
     "name": "stdout",
     "output_type": "stream",
     "text": [
      "Вітаємо, пане Біленко! Зараз місяць січень у Вас День народження! Будьте здорові!\n"
     ]
    }
   ],
   "source": [
    "emp_1 = Employee('Чорненко', 'жовтень', 2000)\n",
    "emp_2 = Employee('Біленко', 'січень', 3000)\n",
    "emp_3 = Employee('Жовтенко', 'березень', 3400)\n",
    "\n",
    "emp_1.salutate('грудень')\n",
    "emp_2.salutate('січень')\n",
    "emp_3.salutate('травень')"
   ]
  },
  {
   "cell_type": "markdown",
   "id": "e87adb21",
   "metadata": {},
   "source": [
    "8.Створіть клас, який наслідує `Employee` та називається `BossEmployee`. У цього класа при ініціалізації є всі ті самі поля, що і в Employee, але також є поле `n_subordinates`, тобто \"кількість підлеглих\". \n",
    "\n",
    "Додайте новоствореному класу метод `add_subordinates`, який додаватиме передану в метод кількість підлеглих цьому босу (тобто буде оновлювати поле класу `n_subordinates`) та буде виводити повідомлення `Вітаємо, пане <прізвище співробітника>! У Вас <введене в метод число> нових співробітників!`. Перевірте, аби кількість нових підлеглих була цілою, якщо це не так, виведіть повідомлення: `Число <введене в метод число, округлене до трьох чисел після коми> не може бути кількістю підлеглих.`. \n",
    "\n",
    "Для формування повідомлень використайте метод форматування рядків, котрий був другим в лекції (з `format` частиною).\n",
    "Коли зробите завдання - запустіть код нижче."
   ]
  },
  {
   "cell_type": "code",
   "execution_count": 15,
   "id": "d636f651",
   "metadata": {
    "ExecuteTime": {
     "end_time": "2023-06-11T16:05:00.034732Z",
     "start_time": "2023-06-11T16:05:00.021627Z"
    }
   },
   "outputs": [],
   "source": [
    "class BossEmployee(Employee):\n",
    "    def __init__(self, surname, month_bd, salary, n_subordinates):\n",
    "        super().__init__(surname, month_bd, salary)\n",
    "        self.n_subordinates = n_subordinates\n",
    "        \n",
    "    def add_subordinates(self, n_new_subordinates):\n",
    "        if isinstance(n_new_subordinates, int):\n",
    "            self.n_subordinates += n_new_subordinates\n",
    "            print('Вітаємо, пане {}! У Вас {} нових співробітників!'.format(self.surname, n_new_subordinates))\n",
    "        else:\n",
    "            print('Число {:.3f} не може бути кількістю підлеглих.'.format(n_new_subordinates))"
   ]
  },
  {
   "cell_type": "code",
   "execution_count": 16,
   "id": "c0a5c263",
   "metadata": {
    "ExecuteTime": {
     "end_time": "2023-06-11T16:05:00.050418Z",
     "start_time": "2023-06-11T16:05:00.037147Z"
    }
   },
   "outputs": [
    {
     "name": "stdout",
     "output_type": "stream",
     "text": [
      "Вітаємо, пане Босенко! У Вас 5 нових співробітників!\n",
      "Число 4.788 не може бути кількістю підлеглих.\n",
      "Вітаємо, пане Босенко! У Вас 4 нових співробітників!\n"
     ]
    },
    {
     "data": {
      "text/plain": [
       "12"
      ]
     },
     "execution_count": 16,
     "metadata": {},
     "output_type": "execute_result"
    }
   ],
   "source": [
    "emp_4 = BossEmployee('Босенко', 'липень', 5500, 3)\n",
    "emp_4.add_subordinates(5)\n",
    "emp_4.add_subordinates(4.78764174)\n",
    "emp_4.add_subordinates(4)\n",
    "emp_4.n_subordinates"
   ]
  },
  {
   "cell_type": "markdown",
   "id": "3fd17409",
   "metadata": {},
   "source": [
    "Очікуваний результат виконання команд вище:\n",
    "```\n",
    "Вітаємо, пане Босенко! У Вас 5 нових співробітників!     \n",
    "Число 4.788 не може бути кількістю підлеглих.\n",
    "Вітаємо, пане Босенко! У Вас 4 нових співробітників!\n",
    "12\n",
    "```"
   ]
  },
  {
   "cell_type": "markdown",
   "id": "0b2ac3ec",
   "metadata": {},
   "source": [
    "# Ураа!! Ви доробили ДРУГЕ домашнє завдання!!! З кожним ДЗ ви стаєте з Python все ближче і ближче. Ваші відносини зараз - він поставив вогник на вашу сторіс 😉\n",
    "В кінці курсу будете наче пити просеко на кухні і обговорювати останні мемчики.  \n",
    "\n",
    "Аби здати ДЗ - залийте ноутбук у гітхаб репозиторій, який ви створили у перші дні навчання на курсі, та додайте посилання на файл у відповідному завданні в Eduflow.\n",
    "Далі - ще цікавіше! 🚀🚀🚀"
   ]
  }
 ],
 "metadata": {
  "kernelspec": {
   "display_name": "Python 3 (ipykernel)",
   "language": "python",
   "name": "python3"
  },
  "language_info": {
   "codemirror_mode": {
    "name": "ipython",
    "version": 3
   },
   "file_extension": ".py",
   "mimetype": "text/x-python",
   "name": "python",
   "nbconvert_exporter": "python",
   "pygments_lexer": "ipython3",
   "version": "3.10.9"
  },
  "toc": {
   "base_numbering": 1,
   "nav_menu": {},
   "number_sections": true,
   "sideBar": true,
   "skip_h1_title": false,
   "title_cell": "Table of Contents",
   "title_sidebar": "Contents",
   "toc_cell": false,
   "toc_position": {},
   "toc_section_display": true,
   "toc_window_display": false
  },
  "varInspector": {
   "cols": {
    "lenName": 16,
    "lenType": 16,
    "lenVar": 40
   },
   "kernels_config": {
    "python": {
     "delete_cmd_postfix": "",
     "delete_cmd_prefix": "del ",
     "library": "var_list.py",
     "varRefreshCmd": "print(var_dic_list())"
    },
    "r": {
     "delete_cmd_postfix": ") ",
     "delete_cmd_prefix": "rm(",
     "library": "var_list.r",
     "varRefreshCmd": "cat(var_dic_list()) "
    }
   },
   "types_to_exclude": [
    "module",
    "function",
    "builtin_function_or_method",
    "instance",
    "_Feature"
   ],
   "window_display": false
  }
 },
 "nbformat": 4,
 "nbformat_minor": 5
}
