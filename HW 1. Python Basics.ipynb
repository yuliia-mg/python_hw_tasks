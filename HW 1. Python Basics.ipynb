{
 "cells": [
  {
   "cell_type": "markdown",
   "id": "40e082b1",
   "metadata": {
    "pycharm": {
     "name": "#%% md\n"
    }
   },
   "source": [
    "# Домашнє завдання до теми \"Python Basics\"\n",
    "В цьому ДЗ важливою умовою виконання завдань є те, що ми не імпортуємо жодних бібліотек, а робимо все на чистому Python, використовуючи лише базовий функціонал. Це необхідно аби відпрацювати роботу з базовими типами даних. А використовувати бібліотеки ми ще навчимось далі :)"
   ]
  },
  {
   "cell_type": "markdown",
   "id": "4c45beb2",
   "metadata": {
    "pycharm": {
     "name": "#%% md\n"
    }
   },
   "source": [
    "## Робота з числами та арифметичними операторами"
   ]
  },
  {
   "cell_type": "markdown",
   "id": "a8613864",
   "metadata": {
    "ExecuteTime": {
     "end_time": "2023-05-26T10:30:07.427381Z",
     "start_time": "2023-05-26T10:30:07.416247Z"
    }
   },
   "source": [
    "1.Створіть змінну, яка буде зберігати кількість яблук. І надайте їй значення 5. Виведіть значення змінної на екран."
   ]
  },
  {
   "cell_type": "code",
   "execution_count": 2,
   "id": "1365fd1c",
   "metadata": {
    "ExecuteTime": {
     "end_time": "2023-06-03T06:24:33.038173Z",
     "start_time": "2023-06-03T06:24:33.022624Z"
    }
   },
   "outputs": [
    {
     "data": {
      "text/plain": [
       "5"
      ]
     },
     "execution_count": 2,
     "metadata": {},
     "output_type": "execute_result"
    }
   ],
   "source": [
    "apple = 5\n",
    "apple"
   ]
  },
  {
   "cell_type": "markdown",
   "id": "96873051",
   "metadata": {},
   "source": [
    "2.Виведіть тип змінної, створеної в завданні (1)."
   ]
  },
  {
   "cell_type": "code",
   "execution_count": 3,
   "id": "c01b4ea0",
   "metadata": {
    "ExecuteTime": {
     "end_time": "2023-06-03T06:24:33.080354Z",
     "start_time": "2023-06-03T06:24:33.064384Z"
    }
   },
   "outputs": [
    {
     "data": {
      "text/plain": [
       "int"
      ]
     },
     "execution_count": 3,
     "metadata": {},
     "output_type": "execute_result"
    }
   ],
   "source": [
    "type(apple)"
   ]
  },
  {
   "cell_type": "markdown",
   "id": "c77e95fd",
   "metadata": {},
   "source": [
    "3.Додайте до значення змінної, створеної в завданні (1) число `12` і виведіть результат на екран з допомогою команди `print()`."
   ]
  },
  {
   "cell_type": "code",
   "execution_count": 4,
   "id": "36fc4498",
   "metadata": {
    "ExecuteTime": {
     "end_time": "2023-06-03T06:24:33.112353Z",
     "start_time": "2023-06-03T06:24:33.088383Z"
    }
   },
   "outputs": [
    {
     "name": "stdout",
     "output_type": "stream",
     "text": [
      "17\n"
     ]
    }
   ],
   "source": [
    "apple += 12\n",
    "print(apple)"
   ]
  },
  {
   "cell_type": "markdown",
   "id": "cb34c5fd",
   "metadata": {
    "pycharm": {
     "name": "#%% md\n"
    }
   },
   "source": [
    "4.Створіть змінні `a`, `b`, `c` та `d`, задайте їм значення відповідно 101, 210, 111, 402, та обчисліть з допомогою Python наступний вираз:  $$ \\frac{(a+b) * c}{d} $$\n",
    "\n",
    "**Важливо**: тут ми маємо обчислити значення саме з використанням змінних, а не просто чисел, як би ми робили у калькуряторі. Змінні потрібні аби за бажання ми могли змінити їх значення та не переписувати код обчислення виразу, бо він буде працювати для різних значень змінних."
   ]
  },
  {
   "cell_type": "code",
   "execution_count": 5,
   "id": "2ec13673",
   "metadata": {
    "ExecuteTime": {
     "end_time": "2023-06-03T06:24:33.144353Z",
     "start_time": "2023-06-03T06:24:33.120353Z"
    },
    "pycharm": {
     "name": "#%%\n"
    }
   },
   "outputs": [
    {
     "data": {
      "text/plain": [
       "85.8731343283582"
      ]
     },
     "execution_count": 5,
     "metadata": {},
     "output_type": "execute_result"
    }
   ],
   "source": [
    "a = 101\n",
    "b = 210\n",
    "c = 111\n",
    "d = 402\n",
    "(a + b) * c / d"
   ]
  },
  {
   "cell_type": "markdown",
   "id": "80ce85d4",
   "metadata": {
    "pycharm": {
     "name": "#%% md\n"
    }
   },
   "source": [
    "Очікувана відповідь: 85.8731343283582"
   ]
  },
  {
   "cell_type": "markdown",
   "id": "fa9a1369",
   "metadata": {},
   "source": [
    "5.Якою буде остача від ділення числа 11283 на 89? Обчисліть з допомогою Python."
   ]
  },
  {
   "cell_type": "code",
   "execution_count": 6,
   "id": "4e17667f",
   "metadata": {
    "ExecuteTime": {
     "end_time": "2023-06-03T06:24:33.192386Z",
     "start_time": "2023-06-03T06:24:33.168377Z"
    }
   },
   "outputs": [
    {
     "data": {
      "text/plain": [
       "69"
      ]
     },
     "execution_count": 6,
     "metadata": {},
     "output_type": "execute_result"
    }
   ],
   "source": [
    "11283 % 89"
   ]
  },
  {
   "cell_type": "markdown",
   "id": "37755a7e",
   "metadata": {},
   "source": [
    "6.Скільки цілих разів поміститься число 89 в 11283? (Або що те саме: який буде результат цілочисельного ділення 11283 на 89?)"
   ]
  },
  {
   "cell_type": "code",
   "execution_count": 7,
   "id": "a4f6b123",
   "metadata": {
    "ExecuteTime": {
     "end_time": "2023-06-03T06:24:33.216378Z",
     "start_time": "2023-06-03T06:24:33.192386Z"
    }
   },
   "outputs": [
    {
     "data": {
      "text/plain": [
       "126"
      ]
     },
     "execution_count": 7,
     "metadata": {},
     "output_type": "execute_result"
    }
   ],
   "source": [
    "11283 // 89"
   ]
  },
  {
   "cell_type": "markdown",
   "id": "f526405f",
   "metadata": {
    "ExecuteTime": {
     "end_time": "2022-10-15T22:38:58.278123Z",
     "start_time": "2022-10-15T22:38:58.274895Z"
    },
    "pycharm": {
     "name": "#%% md\n"
    }
   },
   "source": [
    "# Робота з рядками"
   ]
  },
  {
   "cell_type": "markdown",
   "id": "7ed007ba",
   "metadata": {
    "pycharm": {
     "name": "#%% md\n"
    }
   },
   "source": [
    "7.Запишіть у змінну `name` ваше імʼя."
   ]
  },
  {
   "cell_type": "code",
   "execution_count": 8,
   "id": "182732f0",
   "metadata": {
    "ExecuteTime": {
     "end_time": "2023-06-03T06:24:33.248375Z",
     "start_time": "2023-06-03T06:24:33.240374Z"
    },
    "pycharm": {
     "name": "#%%\n"
    }
   },
   "outputs": [],
   "source": [
    "name = 'Yuliia'"
   ]
  },
  {
   "cell_type": "markdown",
   "id": "1b7746fd",
   "metadata": {
    "pycharm": {
     "name": "#%% md\n"
    }
   },
   "source": [
    "8.Запишіть у змінну `surname` ваше прізвище."
   ]
  },
  {
   "cell_type": "code",
   "execution_count": 9,
   "id": "b35c4a82",
   "metadata": {
    "ExecuteTime": {
     "end_time": "2023-06-03T06:24:33.264372Z",
     "start_time": "2023-06-03T06:24:33.248375Z"
    },
    "pycharm": {
     "name": "#%%\n"
    }
   },
   "outputs": [],
   "source": [
    "surname = 'Miagka'"
   ]
  },
  {
   "cell_type": "markdown",
   "id": "0a140b0c",
   "metadata": {
    "pycharm": {
     "name": "#%% md\n"
    }
   },
   "source": [
    "9.Сконкатенуйте імʼя та прізвище в одну фразу через пробіл. Запишіть результат у нову змінну `name_surname` та виведіть результат на екран.  "
   ]
  },
  {
   "cell_type": "code",
   "execution_count": 10,
   "id": "f759dfb5",
   "metadata": {
    "ExecuteTime": {
     "end_time": "2023-06-03T06:24:33.312344Z",
     "start_time": "2023-06-03T06:24:33.264372Z"
    },
    "pycharm": {
     "name": "#%%\n"
    }
   },
   "outputs": [
    {
     "data": {
      "text/plain": [
       "'Yuliia Miagka'"
      ]
     },
     "execution_count": 10,
     "metadata": {},
     "output_type": "execute_result"
    }
   ],
   "source": [
    "name_surname = name + ' ' + surname\n",
    "name_surname"
   ]
  },
  {
   "cell_type": "markdown",
   "id": "2a61a84b",
   "metadata": {
    "pycharm": {
     "name": "#%% md\n"
    }
   },
   "source": [
    "Очікувана відповідь (тільки з вашими даними): 'Hanna Pylieva' "
   ]
  },
  {
   "cell_type": "markdown",
   "id": "57d5d304",
   "metadata": {
    "pycharm": {
     "name": "#%% md\n"
    }
   },
   "source": [
    "10.Зробіть усі літери змінної `name_surname` заглавними використовуючи метод рядків в Python:"
   ]
  },
  {
   "cell_type": "code",
   "execution_count": 11,
   "id": "a29d87f3",
   "metadata": {
    "ExecuteTime": {
     "end_time": "2023-06-03T06:24:33.328344Z",
     "start_time": "2023-06-03T06:24:33.312344Z"
    },
    "pycharm": {
     "name": "#%%\n"
    }
   },
   "outputs": [
    {
     "data": {
      "text/plain": [
       "'YULIIA MIAGKA'"
      ]
     },
     "execution_count": 11,
     "metadata": {},
     "output_type": "execute_result"
    }
   ],
   "source": [
    "name_surname.upper()"
   ]
  },
  {
   "cell_type": "markdown",
   "id": "59ae8f0c",
   "metadata": {
    "pycharm": {
     "name": "#%% md\n"
    }
   },
   "source": [
    "Очікувана відповідь (тільки з вашими даними): 'HANNA PYLIEVA'"
   ]
  },
  {
   "cell_type": "markdown",
   "id": "b356e521",
   "metadata": {
    "pycharm": {
     "name": "#%% md\n"
    }
   },
   "source": [
    "11.Виведіть третю літеру вашого `name_surname`. Тут уважно, треба саме третя літера. Згадайте, з якого значення починається індексування значень в Python."
   ]
  },
  {
   "cell_type": "code",
   "execution_count": 12,
   "id": "45667da7",
   "metadata": {
    "ExecuteTime": {
     "end_time": "2023-06-03T06:24:33.352345Z",
     "start_time": "2023-06-03T06:24:33.336372Z"
    },
    "pycharm": {
     "name": "#%%\n"
    }
   },
   "outputs": [
    {
     "data": {
      "text/plain": [
       "'l'"
      ]
     },
     "execution_count": 12,
     "metadata": {},
     "output_type": "execute_result"
    }
   ],
   "source": [
    "name_surname[2]"
   ]
  },
  {
   "cell_type": "markdown",
   "id": "a0325449",
   "metadata": {
    "pycharm": {
     "name": "#%% md\n"
    }
   },
   "source": [
    "Очікувана відповідь (тільки з вашими даними): 'n'"
   ]
  },
  {
   "cell_type": "markdown",
   "id": "8e1cc224",
   "metadata": {
    "pycharm": {
     "name": "#%% md\n"
    }
   },
   "source": [
    "12.Виведіть першу та останню літеру вашого прізвища."
   ]
  },
  {
   "cell_type": "code",
   "execution_count": 13,
   "id": "f33bca75",
   "metadata": {
    "ExecuteTime": {
     "end_time": "2023-06-03T06:24:33.384372Z",
     "start_time": "2023-06-03T06:24:33.368378Z"
    }
   },
   "outputs": [
    {
     "data": {
      "text/plain": [
       "('M', 'a')"
      ]
     },
     "execution_count": 13,
     "metadata": {},
     "output_type": "execute_result"
    }
   ],
   "source": [
    "surname[0], surname[-1]"
   ]
  },
  {
   "cell_type": "markdown",
   "id": "caf30064",
   "metadata": {
    "pycharm": {
     "name": "#%% md\n"
    }
   },
   "source": [
    "Очікувана відповідь (тільки з вашими даними): ('P', 'a')"
   ]
  },
  {
   "cell_type": "markdown",
   "id": "0433613f",
   "metadata": {
    "pycharm": {
     "name": "#%% md\n"
    }
   },
   "source": [
    "13.Виведіть довжину вашого прізвища."
   ]
  },
  {
   "cell_type": "code",
   "execution_count": 14,
   "id": "ee7d507c",
   "metadata": {
    "ExecuteTime": {
     "end_time": "2023-06-03T06:24:33.400372Z",
     "start_time": "2023-06-03T06:24:33.392344Z"
    },
    "pycharm": {
     "name": "#%%\n"
    }
   },
   "outputs": [
    {
     "data": {
      "text/plain": [
       "6"
      ]
     },
     "execution_count": 14,
     "metadata": {},
     "output_type": "execute_result"
    }
   ],
   "source": [
    "len(surname)"
   ]
  },
  {
   "cell_type": "markdown",
   "id": "600c0931",
   "metadata": {
    "pycharm": {
     "name": "#%% md\n"
    }
   },
   "source": [
    "Очікувана відповідь (тільки з вашими даними): 7"
   ]
  },
  {
   "cell_type": "markdown",
   "id": "614bddaa",
   "metadata": {
    "pycharm": {
     "name": "#%% md\n"
    }
   },
   "source": [
    "14.Виведіть кількість літер `a` у столиці Мадагаскару `Antananarivo`. Важливо врахувати всі літери, як великі, так і маленькі."
   ]
  },
  {
   "cell_type": "code",
   "execution_count": 15,
   "id": "13f8df0b",
   "metadata": {
    "ExecuteTime": {
     "end_time": "2023-06-03T06:24:33.432374Z",
     "start_time": "2023-06-03T06:24:33.408373Z"
    },
    "pycharm": {
     "name": "#%%\n"
    }
   },
   "outputs": [
    {
     "data": {
      "text/plain": [
       "4"
      ]
     },
     "execution_count": 15,
     "metadata": {},
     "output_type": "execute_result"
    }
   ],
   "source": [
    "capital = 'Antananarivo'\n",
    "capital.lower().count('a')"
   ]
  },
  {
   "cell_type": "code",
   "execution_count": 16,
   "id": "f1065ac3",
   "metadata": {
    "ExecuteTime": {
     "end_time": "2023-06-03T06:24:33.448372Z",
     "start_time": "2023-06-03T06:24:33.432374Z"
    }
   },
   "outputs": [
    {
     "data": {
      "text/plain": [
       "4"
      ]
     },
     "execution_count": 16,
     "metadata": {},
     "output_type": "execute_result"
    }
   ],
   "source": [
    "'Antananarivo'.lower().count('a')"
   ]
  },
  {
   "cell_type": "markdown",
   "id": "a925f31f",
   "metadata": {
    "pycharm": {
     "name": "#%% md\n"
    }
   },
   "source": [
    "Очікувана відповідь: 4"
   ]
  },
  {
   "cell_type": "markdown",
   "id": "486a18ff",
   "metadata": {
    "ExecuteTime": {
     "end_time": "2023-05-28T22:53:18.824389Z",
     "start_time": "2023-05-28T22:53:18.816117Z"
    }
   },
   "source": [
    "15.Створіть рядок `my_string` зі значенням: \"The quick brown fox jumps over the lazy dog!!!\".   \n",
    "Перевірте, чи починається рядок `my_string` з \"The\" і чи закінчується він \"dog!\". Виведіть результати на екран."
   ]
  },
  {
   "cell_type": "code",
   "execution_count": 17,
   "id": "d9caf022",
   "metadata": {
    "ExecuteTime": {
     "end_time": "2023-06-03T06:24:33.464346Z",
     "start_time": "2023-06-03T06:24:33.448372Z"
    }
   },
   "outputs": [
    {
     "name": "stdout",
     "output_type": "stream",
     "text": [
      "True\n",
      "False\n"
     ]
    }
   ],
   "source": [
    "my_string = 'The quick brown fox jumps over the lazy dog!!!'\n",
    "print(my_string.startswith('The'))\n",
    "print(my_string.endswith('dog!'))"
   ]
  },
  {
   "cell_type": "markdown",
   "id": "cc9617c6",
   "metadata": {},
   "source": [
    "16.Розділіть рядок `my_string` на список слів, а потім з'єднайте всі слова через нижнє підкреслювання. Виведіть результат на екран."
   ]
  },
  {
   "cell_type": "code",
   "execution_count": 18,
   "id": "2b0fe4c2",
   "metadata": {
    "ExecuteTime": {
     "end_time": "2023-06-03T06:24:33.480372Z",
     "start_time": "2023-06-03T06:24:33.464346Z"
    }
   },
   "outputs": [
    {
     "name": "stdout",
     "output_type": "stream",
     "text": [
      "The_quick_brown_fox_jumps_over_the_lazy_dog!!!\n"
     ]
    }
   ],
   "source": [
    "print('_'.join(my_string.split()))"
   ]
  },
  {
   "cell_type": "markdown",
   "id": "0d90865d",
   "metadata": {},
   "source": [
    "Очікуваний результат: `The_quick_brown_fox_jumps_over_the_lazy_dog!!!`"
   ]
  },
  {
   "cell_type": "markdown",
   "id": "19b47730",
   "metadata": {
    "pycharm": {
     "name": "#%% md\n"
    }
   },
   "source": [
    "# Робота зі колекціями"
   ]
  },
  {
   "cell_type": "markdown",
   "id": "e9dc8a45",
   "metadata": {
    "pycharm": {
     "name": "#%% md\n"
    }
   },
   "source": [
    "У нас є наступний список:"
   ]
  },
  {
   "cell_type": "code",
   "execution_count": 19,
   "id": "c1c0e5a2",
   "metadata": {
    "ExecuteTime": {
     "end_time": "2023-06-03T06:24:33.496372Z",
     "start_time": "2023-06-03T06:24:33.480372Z"
    },
    "pycharm": {
     "name": "#%%\n"
    }
   },
   "outputs": [],
   "source": [
    "my_list = [\n",
    "    78, 12, 14, 27, 47, 28, 51, 46, 94, 37, 42, 20, 52, 33, 11, 11, 51,\n",
    "    20, 81, 54, 86, 51, 38, 42, 49, 99, 76, 17,  9, 23, 97, 29, 29, 63,\n",
    "    40, 11, 31, 76, 15, 21, 29, 75, 35,  2, 10, 71, 17, 10, 13,  7, 44,\n",
    "    12, 19, 61, 13, 25, 62, 46, 10, 44, 75, 57, 20, 57,  3, 44, 16, 28,\n",
    "    79, 57, 62, 70, 95,  8, 47, 82, 80, 45, 36, 44, 79, 95, 73, 42, 29,\n",
    "    83, 80, 66, 56,  8, 73,  5, 99, 65, 65, 98, 17, 36, 16, 60\n",
    "]"
   ]
  },
  {
   "cell_type": "markdown",
   "id": "cdca6ddd",
   "metadata": {
    "pycharm": {
     "name": "#%% md\n"
    }
   },
   "source": [
    "Будемо з ним працювати в наступних завданнях."
   ]
  },
  {
   "cell_type": "markdown",
   "id": "a6a35059",
   "metadata": {
    "pycharm": {
     "name": "#%% md\n"
    }
   },
   "source": [
    "17.Виведіть 5 перших елементів списку `my_list` з допомогою слайсингу."
   ]
  },
  {
   "cell_type": "code",
   "execution_count": 20,
   "id": "f68ad0e3",
   "metadata": {
    "ExecuteTime": {
     "end_time": "2023-06-03T06:24:33.536376Z",
     "start_time": "2023-06-03T06:24:33.504344Z"
    },
    "pycharm": {
     "name": "#%%\n"
    }
   },
   "outputs": [
    {
     "data": {
      "text/plain": [
       "[78, 12, 14, 27, 47]"
      ]
     },
     "execution_count": 20,
     "metadata": {},
     "output_type": "execute_result"
    }
   ],
   "source": [
    "my_list[:5]"
   ]
  },
  {
   "cell_type": "markdown",
   "id": "d3869f56",
   "metadata": {
    "pycharm": {
     "name": "#%% md\n"
    }
   },
   "source": [
    "Очікувана відповідь: [78, 12, 14, 27, 47]"
   ]
  },
  {
   "cell_type": "markdown",
   "id": "13be8213",
   "metadata": {
    "ExecuteTime": {
     "end_time": "2023-05-28T22:46:26.546845Z",
     "start_time": "2023-05-28T22:46:26.540558Z"
    }
   },
   "source": [
    "18.Виведіть 3 останніх елементи списку `my_list` з допомогою слайсингу."
   ]
  },
  {
   "cell_type": "code",
   "execution_count": 21,
   "id": "c58826ef",
   "metadata": {
    "ExecuteTime": {
     "end_time": "2023-06-03T06:24:33.552345Z",
     "start_time": "2023-06-03T06:24:33.536376Z"
    }
   },
   "outputs": [
    {
     "data": {
      "text/plain": [
       "[36, 16, 60]"
      ]
     },
     "execution_count": 21,
     "metadata": {},
     "output_type": "execute_result"
    }
   ],
   "source": [
    "my_list[-3:]"
   ]
  },
  {
   "cell_type": "markdown",
   "id": "0bbd18d1",
   "metadata": {
    "pycharm": {
     "name": "#%% md\n"
    }
   },
   "source": [
    "19.Виведіть максимальний і мінімальний елемент у списку. Сформуйте відповідь у наступному форматі\n",
    "```\n",
    "Max element  <число>\n",
    "Max element  <число>\n",
    "```"
   ]
  },
  {
   "cell_type": "code",
   "execution_count": 22,
   "id": "9328e9c4",
   "metadata": {
    "ExecuteTime": {
     "end_time": "2023-06-03T06:24:33.568373Z",
     "start_time": "2023-06-03T06:24:33.552345Z"
    },
    "pycharm": {
     "name": "#%%\n"
    },
    "scrolled": true
   },
   "outputs": [
    {
     "name": "stdout",
     "output_type": "stream",
     "text": [
      "Max element 99\n",
      "Min element 2\n"
     ]
    }
   ],
   "source": [
    "print('Max element', max(my_list))\n",
    "print('Min element', min(my_list))"
   ]
  },
  {
   "cell_type": "markdown",
   "id": "62aecc41",
   "metadata": {
    "pycharm": {
     "name": "#%% md\n"
    }
   },
   "source": [
    "Очікувана відповідь: \n",
    "\n",
    "```\n",
    "Max element  99\n",
    "Max element  2\n",
    "```"
   ]
  },
  {
   "cell_type": "markdown",
   "id": "1765ad4b",
   "metadata": {
    "pycharm": {
     "name": "#%% md\n"
    }
   },
   "source": [
    "20.Створіть новий список `my_list_2`, який містить кожен 11-й елемент списку `my_list`. Виведіть `my_list_2` на екран.  \n",
    "Памʼятаємо, що перший з \"кожного одинадцятого улементу\" списку має індекс 10.\n",
    "Це завдання можна виконати як з використанням циклів, так і з використанням слайсингу."
   ]
  },
  {
   "cell_type": "code",
   "execution_count": 23,
   "id": "2a5df4e4",
   "metadata": {
    "ExecuteTime": {
     "end_time": "2023-06-03T06:24:33.584372Z",
     "start_time": "2023-06-03T06:24:33.568373Z"
    },
    "pycharm": {
     "name": "#%%\n"
    }
   },
   "outputs": [
    {
     "data": {
      "text/plain": [
       "[42, 51, 29, 2, 13, 44, 80, 66, 16]"
      ]
     },
     "execution_count": 23,
     "metadata": {},
     "output_type": "execute_result"
    }
   ],
   "source": [
    "# рішення з використанням слайсингу\n",
    "my_list_2 = my_list[10::11]\n",
    "my_list_2"
   ]
  },
  {
   "cell_type": "code",
   "execution_count": 24,
   "id": "c8b7c88b",
   "metadata": {
    "ExecuteTime": {
     "end_time": "2023-06-03T06:24:33.608347Z",
     "start_time": "2023-06-03T06:24:33.584372Z"
    }
   },
   "outputs": [
    {
     "data": {
      "text/plain": [
       "[42, 51, 29, 2, 13, 44, 80, 66, 16]"
      ]
     },
     "execution_count": 24,
     "metadata": {},
     "output_type": "execute_result"
    }
   ],
   "source": [
    "# рішення з використанням циклів\n",
    "my_list_2 = []\n",
    "for i in range(10, len(my_list), 11):\n",
    "    my_list_2.append(my_list[i])\n",
    "my_list_2"
   ]
  },
  {
   "cell_type": "code",
   "execution_count": 25,
   "id": "22055d46",
   "metadata": {
    "ExecuteTime": {
     "end_time": "2023-06-03T06:24:33.632346Z",
     "start_time": "2023-06-03T06:24:33.608347Z"
    }
   },
   "outputs": [
    {
     "data": {
      "text/plain": [
       "[42, 51, 29, 2, 13, 44, 80, 66, 16]"
      ]
     },
     "execution_count": 25,
     "metadata": {},
     "output_type": "execute_result"
    }
   ],
   "source": [
    "# рішення з використанням List Comprehension\n",
    "my_list_2 = [my_list[i] for i in range(10, len(my_list), 11)]\n",
    "my_list_2"
   ]
  },
  {
   "cell_type": "markdown",
   "id": "f2e3cf1f",
   "metadata": {
    "ExecuteTime": {
     "end_time": "2023-01-20T20:10:37.303981Z",
     "start_time": "2023-01-20T20:10:37.275706Z"
    },
    "pycharm": {
     "name": "#%%\n"
    }
   },
   "source": [
    "Очікуваний результат: `[42, 51, 29, 2, 13, 44, 80, 66, 16]`"
   ]
  },
  {
   "cell_type": "markdown",
   "id": "8e3cf22f",
   "metadata": {},
   "source": [
    "## ВИ - МОЛОДЕЦЬ! ЗРОБИЛИ 20 ЗАВДАНЬ!\n",
    "Далі завдання будуть трохи складніше. Деколи в завданнях треба буде написати цикл або list comprehension. Але я впевнена, що у Вас все вийде!"
   ]
  },
  {
   "cell_type": "markdown",
   "id": "771d135a",
   "metadata": {
    "pycharm": {
     "name": "#%% md\n"
    }
   },
   "source": [
    "21.Створіть новий список `my_list_2_squared`, де кожен елемент списку `my_list_2` є піднесеним до степіня 2. "
   ]
  },
  {
   "cell_type": "code",
   "execution_count": 26,
   "id": "f95fd742",
   "metadata": {
    "ExecuteTime": {
     "end_time": "2023-06-03T06:24:33.648347Z",
     "start_time": "2023-06-03T06:24:33.632346Z"
    }
   },
   "outputs": [
    {
     "data": {
      "text/plain": [
       "[1764, 2601, 841, 4, 169, 1936, 6400, 4356, 256]"
      ]
     },
     "execution_count": 26,
     "metadata": {},
     "output_type": "execute_result"
    }
   ],
   "source": [
    "# рішення з використанням List comprehension\n",
    "my_list_2_squared = [el ** 2 for el in my_list_2]\n",
    "my_list_2_squared"
   ]
  },
  {
   "cell_type": "code",
   "execution_count": 27,
   "id": "13674680",
   "metadata": {
    "ExecuteTime": {
     "end_time": "2023-06-03T06:24:33.664346Z",
     "start_time": "2023-06-03T06:24:33.648347Z"
    }
   },
   "outputs": [
    {
     "name": "stdout",
     "output_type": "stream",
     "text": [
      "[1764, 2601, 841, 4, 169, 1936, 6400, 4356, 256]\n"
     ]
    }
   ],
   "source": [
    "# рішення з використанням циклів\n",
    "my_list_2_squared = []\n",
    "for el in my_list_2:\n",
    "    my_list_2_squared.append(el ** 2)\n",
    "print(my_list_2_squared)"
   ]
  },
  {
   "cell_type": "markdown",
   "id": "6b741cba",
   "metadata": {
    "pycharm": {
     "name": "#%% md\n"
    }
   },
   "source": [
    "Очікуваний результат: `[1764, 2601, 841, 4, 169, 1936, 6400, 4356, 256]`"
   ]
  },
  {
   "cell_type": "markdown",
   "id": "ea0d9719",
   "metadata": {
    "pycharm": {
     "name": "#%% md\n"
    }
   },
   "source": [
    "22.Знайдіть суму всіх елементів списку `my_list_2` та виведіть її на екран."
   ]
  },
  {
   "cell_type": "code",
   "execution_count": 28,
   "id": "9cf6fbc4",
   "metadata": {
    "ExecuteTime": {
     "end_time": "2023-06-03T06:24:33.680347Z",
     "start_time": "2023-06-03T06:24:33.664346Z"
    },
    "pycharm": {
     "name": "#%%\n"
    }
   },
   "outputs": [
    {
     "name": "stdout",
     "output_type": "stream",
     "text": [
      "343\n"
     ]
    }
   ],
   "source": [
    "print(sum(my_list_2))"
   ]
  },
  {
   "cell_type": "markdown",
   "id": "c02ccb2e",
   "metadata": {
    "pycharm": {
     "name": "#%% md\n"
    }
   },
   "source": [
    "23.Знайдіть середнє значення елементів списку `my_list_2`, збережіть результат у змінну `my_list_2_mean`. Виведіть новостворену змінну та ії тип на екран.\n",
    "**Підказка**: середнє значення - це сума елементів поділена на їх кількість. А кількість елементів в списку - це його довжина."
   ]
  },
  {
   "cell_type": "code",
   "execution_count": 29,
   "id": "0e543598",
   "metadata": {
    "ExecuteTime": {
     "end_time": "2023-06-03T06:24:33.696343Z",
     "start_time": "2023-06-03T06:24:33.680347Z"
    },
    "pycharm": {
     "name": "#%%\n"
    }
   },
   "outputs": [
    {
     "data": {
      "text/plain": [
       "38.111111111111114"
      ]
     },
     "metadata": {},
     "output_type": "display_data"
    },
    {
     "data": {
      "text/plain": [
       "float"
      ]
     },
     "metadata": {},
     "output_type": "display_data"
    }
   ],
   "source": [
    "my_list_2_mean = sum(my_list_2) / len(my_list_2)\n",
    "display(my_list_2_mean, type(my_list_2_mean))"
   ]
  },
  {
   "cell_type": "markdown",
   "id": "bd46a24c",
   "metadata": {
    "pycharm": {
     "name": "#%% md\n"
    }
   },
   "source": [
    "24.Створіть новий список `my_list_2_gt_mean`, за наступним правилом: \"якщо цей елемент спиcку `my_list_2` є більше за `my_list_2_mean`, то запишемо 1, інакше 0. Виведіть новий список на екран."
   ]
  },
  {
   "cell_type": "code",
   "execution_count": 30,
   "id": "85864374",
   "metadata": {
    "ExecuteTime": {
     "end_time": "2023-06-03T06:24:33.728373Z",
     "start_time": "2023-06-03T06:24:33.704343Z"
    },
    "pycharm": {
     "name": "#%%\n"
    }
   },
   "outputs": [
    {
     "name": "stdout",
     "output_type": "stream",
     "text": [
      "[1, 1, 0, 0, 0, 1, 1, 1, 0]\n"
     ]
    }
   ],
   "source": [
    "my_list_2_gt_mean = [1 if el > my_list_2_mean else 0 for el in my_list_2]\n",
    "print(my_list_2_gt_mean)"
   ]
  },
  {
   "cell_type": "markdown",
   "id": "61d05e63",
   "metadata": {},
   "source": [
    "Очікуваний результат: `[1, 1, 0, 0, 0, 1, 1, 1, 0]`"
   ]
  },
  {
   "cell_type": "markdown",
   "id": "da2629d2",
   "metadata": {
    "pycharm": {
     "name": "#%% md\n"
    }
   },
   "source": [
    "25.Чи є в списку `my_list` елементи, які повторюються? Перевірте це програмно і з допомогою інструкцій `if ... else` виведіть на екран відповідь \"Так, є елементи, які повторюються\", або \"Ні, всі елементи унікальні\".\n",
    "Важливо це зробити без використання імпортів будь-яких бібліотек, на чистому Python так би мовити."
   ]
  },
  {
   "cell_type": "code",
   "execution_count": 31,
   "id": "580dd171",
   "metadata": {
    "ExecuteTime": {
     "end_time": "2023-06-03T06:24:33.752343Z",
     "start_time": "2023-06-03T06:24:33.736377Z"
    },
    "pycharm": {
     "name": "#%%\n"
    }
   },
   "outputs": [
    {
     "name": "stdout",
     "output_type": "stream",
     "text": [
      "Так, є елементи, які повторюються\n"
     ]
    }
   ],
   "source": [
    "if len(my_list) > len(set(my_list)):\n",
    "    print('Так, є елементи, які повторюються')\n",
    "else:\n",
    "    print('Ні, всі елементи унікальні')"
   ]
  },
  {
   "cell_type": "markdown",
   "id": "cd8acf72",
   "metadata": {
    "pycharm": {
     "name": "#%% md\n"
    }
   },
   "source": [
    "26.Для кожного унікального елементу списку `my_list` знайдіть, скільки разів він повторюється, та запишіть сукупний результат для всіх елементів (тобто скільки разів повторюється кожен елемент) у змінну `n_repeats`. Виведіть `n_repeats` на екран. \n",
    "\n",
    "**Підказка**: `n_repeats` матиме тип \"словник\". Порядок ключів в словнику не має значення! Тобто ключі в словнику не обовʼязково мають бути в тому ж порядку, як наведено в прикладі результату. Але кількості зустрічань для кожного елемента мають співпадати з наведеними. "
   ]
  },
  {
   "cell_type": "code",
   "execution_count": 32,
   "id": "dcbc352b",
   "metadata": {
    "ExecuteTime": {
     "end_time": "2023-06-03T06:24:33.784344Z",
     "start_time": "2023-06-03T06:24:33.768374Z"
    },
    "pycharm": {
     "name": "#%%\n"
    }
   },
   "outputs": [
    {
     "name": "stdout",
     "output_type": "stream",
     "text": [
      "{78: 1, 12: 2, 14: 1, 27: 1, 47: 2, 28: 2, 51: 3, 46: 2, 94: 1, 37: 1, 42: 3, 20: 3, 52: 1, 33: 1, 11: 3, 81: 1, 54: 1, 86: 1, 38: 1, 49: 1, 99: 2, 76: 2, 17: 3, 9: 1, 23: 1, 97: 1, 29: 4, 63: 1, 40: 1, 31: 1, 15: 1, 21: 1, 75: 2, 35: 1, 2: 1, 10: 3, 71: 1, 13: 2, 7: 1, 44: 4, 19: 1, 61: 1, 25: 1, 62: 2, 57: 3, 3: 1, 16: 2, 79: 2, 70: 1, 95: 2, 8: 2, 82: 1, 80: 2, 45: 1, 36: 2, 73: 2, 83: 1, 66: 1, 56: 1, 5: 1, 65: 2, 98: 1, 60: 1}\n"
     ]
    }
   ],
   "source": [
    "# рішення з використанням циклів\n",
    "n_repeats = {}\n",
    "for el in my_list:\n",
    "    n_repeats[el] = my_list.count(el)\n",
    "print(n_repeats)\n"
   ]
  },
  {
   "cell_type": "code",
   "execution_count": 33,
   "id": "88d08f6b",
   "metadata": {
    "ExecuteTime": {
     "end_time": "2023-06-03T06:24:33.800373Z",
     "start_time": "2023-06-03T06:24:33.784344Z"
    }
   },
   "outputs": [
    {
     "name": "stdout",
     "output_type": "stream",
     "text": [
      "{78: 1, 12: 2, 14: 1, 27: 1, 47: 2, 28: 2, 51: 3, 46: 2, 94: 1, 37: 1, 42: 3, 20: 3, 52: 1, 33: 1, 11: 3, 81: 1, 54: 1, 86: 1, 38: 1, 49: 1, 99: 2, 76: 2, 17: 3, 9: 1, 23: 1, 97: 1, 29: 4, 63: 1, 40: 1, 31: 1, 15: 1, 21: 1, 75: 2, 35: 1, 2: 1, 10: 3, 71: 1, 13: 2, 7: 1, 44: 4, 19: 1, 61: 1, 25: 1, 62: 2, 57: 3, 3: 1, 16: 2, 79: 2, 70: 1, 95: 2, 8: 2, 82: 1, 80: 2, 45: 1, 36: 2, 73: 2, 83: 1, 66: 1, 56: 1, 5: 1, 65: 2, 98: 1, 60: 1}\n"
     ]
    }
   ],
   "source": [
    "# рішення з використанням Dict Comprehension\n",
    "n_repeats = {el: my_list.count(el) for el in my_list}\n",
    "print(n_repeats)"
   ]
  },
  {
   "cell_type": "markdown",
   "id": "befe4d83",
   "metadata": {
    "pycharm": {
     "name": "#%% md\n"
    }
   },
   "source": [
    "Очікуваний результат (три крапки - для скорочення, у вас буде виведений повний набір унікальних елементів): \n",
    "```\n",
    "{2: 1, 3: 1, 5: 1, 7: 1, 8: 2, 9: 1, 10: 3, 11: 3, 12: 2, 13: 2, 14: 1, 15: 1, 16: 2, 17: 3, 19: 1, 20: 3, 21: 1, 23: 1, 25: 1, 27: 1, 28: 2, 29: 4, 31: 1, 33: 1, 35: 1, 36: 2, 37: 1, 38: 1, 40: 1, 42: 3, 44: 4, 45: 1, 46: 2, 47: 2, 49: 1, 51: 3, 52: 1, 54: 1, 56: 1, 57: 3, 60: 1, 61: 1, 62: 2, 63: 1, 65: 2, 66: 1, 70: 1, 71: 1, 73: 2, 75: 2, 76: 2, 78: 1, 79: 2, 80: 2, 81: 1, 82: 1, 83: 1, 86: 1, 94: 1, 95: 2, 97: 1, 98: 1, 99: 2}\n",
    "```"
   ]
  },
  {
   "cell_type": "markdown",
   "id": "ed1184a7",
   "metadata": {
    "pycharm": {
     "name": "#%% md\n"
    }
   },
   "source": [
    "27.Знайдіть три найменші **унікальні** елементи в списку `my_list`. Збережіть знайдені елементи в змінну `least_3_my_list`. Виведіть значення змінної `least_3_my_list` на екран."
   ]
  },
  {
   "cell_type": "code",
   "execution_count": 34,
   "id": "c5aba5cd",
   "metadata": {
    "ExecuteTime": {
     "end_time": "2023-06-03T06:24:33.832373Z",
     "start_time": "2023-06-03T06:24:33.808373Z"
    }
   },
   "outputs": [
    {
     "name": "stdout",
     "output_type": "stream",
     "text": [
      "[2, 3, 5]\n"
     ]
    }
   ],
   "source": [
    "least_3_my_list = sorted(set(my_list))[:3]\n",
    "print(least_3_my_list)"
   ]
  },
  {
   "cell_type": "markdown",
   "id": "b665af62",
   "metadata": {
    "pycharm": {
     "name": "#%% md\n"
    }
   },
   "source": [
    "Очікувана відповідь: [2, 3, 5]\n"
   ]
  },
  {
   "cell_type": "markdown",
   "id": "6f362d66",
   "metadata": {
    "pycharm": {
     "name": "#%% md\n"
    }
   },
   "source": [
    "# Ураа!! Ви завершили перше домашнє завдання!!!  \n",
    "Аби здати ДЗ - залийте ноутбук у гітхаб репозиторій, який ви створили у перші дні навчання на курсі, та додайте посилання на файл у відповідному завданні в Eduflow.\n",
    "Так тримати! 🚀🚀🚀"
   ]
  }
 ],
 "metadata": {
  "kernelspec": {
   "display_name": "Python 3 (ipykernel)",
   "language": "python",
   "name": "python3"
  },
  "language_info": {
   "codemirror_mode": {
    "name": "ipython",
    "version": 3
   },
   "file_extension": ".py",
   "mimetype": "text/x-python",
   "name": "python",
   "nbconvert_exporter": "python",
   "pygments_lexer": "ipython3",
   "version": "3.10.9"
  },
  "toc": {
   "base_numbering": 1,
   "nav_menu": {},
   "number_sections": true,
   "sideBar": true,
   "skip_h1_title": false,
   "title_cell": "Table of Contents",
   "title_sidebar": "Contents",
   "toc_cell": false,
   "toc_position": {},
   "toc_section_display": true,
   "toc_window_display": false
  },
  "varInspector": {
   "cols": {
    "lenName": 16,
    "lenType": 16,
    "lenVar": 40
   },
   "kernels_config": {
    "python": {
     "delete_cmd_postfix": "",
     "delete_cmd_prefix": "del ",
     "library": "var_list.py",
     "varRefreshCmd": "print(var_dic_list())"
    },
    "r": {
     "delete_cmd_postfix": ") ",
     "delete_cmd_prefix": "rm(",
     "library": "var_list.r",
     "varRefreshCmd": "cat(var_dic_list()) "
    }
   },
   "types_to_exclude": [
    "module",
    "function",
    "builtin_function_or_method",
    "instance",
    "_Feature"
   ],
   "window_display": false
  }
 },
 "nbformat": 4,
 "nbformat_minor": 5
}
